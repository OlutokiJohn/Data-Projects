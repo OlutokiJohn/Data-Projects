{
 "cells": [
  {
   "cell_type": "markdown",
   "id": "6db65493",
   "metadata": {},
   "source": [
    "## Prison Break: Analysing Helicopter Prison Escape Data"
   ]
  },
  {
   "cell_type": "markdown",
   "id": "8a5a0b3d",
   "metadata": {},
   "source": [
    "In this work i am going to analyse a dataset of prison escapes where a there have been multiple prison escapes where an inmate escapes by means of a helicopter. (https://en.wikipedia.org/wiki/List_of_helicopter_prison_escapes).\n",
    "\n",
    "### This project helps to answer the following questions:\n",
    "\n",
    "- What year did the most helicopter prison break attempts occur?\n",
    "- Which of the countries have the most attempted helicopter prison escapees?"
   ]
  },
  {
   "cell_type": "code",
   "execution_count": 1,
   "id": "8c9172ec",
   "metadata": {},
   "outputs": [],
   "source": [
    "#We begin by importing necessary libraries and functions.\n",
    "\n",
    "import requests\n",
    "from bs4 import BeautifulSoup\n",
    "import pandas as pd\n",
    "from tabulate import tabulate"
   ]
  },
  {
   "cell_type": "code",
   "execution_count": 2,
   "id": "1310d85d",
   "metadata": {},
   "outputs": [],
   "source": [
    "#Web scraping function data_from_url() was defined to extract the data\n",
    "def data_from_url(url,tag_name,class_name):\n",
    "    response = requests.get(url)\n",
    "    if response.status_code != 200:\n",
    "        print('HTTP 404: Page not found')\n",
    "    else:\n",
    "        soup = BeautifulSoup(response.text,'html.parser')\n",
    "        html_output = soup.find(tag_name,{'class':class_name})\n",
    "        output = pd.read_html(str(html_output))\n",
    "    return output[0]"
   ]
  },
  {
   "cell_type": "code",
   "execution_count": 3,
   "id": "e338f870",
   "metadata": {},
   "outputs": [],
   "source": [
    "#webscrapping the prison break data\n",
    "data = \"https://en.wikipedia.org/wiki/List_of_helicopter_prison_escapes\""
   ]
  },
  {
   "cell_type": "code",
   "execution_count": 4,
   "id": "e0285da7",
   "metadata": {},
   "outputs": [],
   "source": [
    "#using the webscrapping function that was created earlier to scrap the neccesary data \n",
    "prison_break_data = data_from_url(data,'table','wikitable')"
   ]
  },
  {
   "cell_type": "markdown",
   "id": "623ceeaf",
   "metadata": {},
   "source": [
    "### Data Processing "
   ]
  },
  {
   "cell_type": "code",
   "execution_count": 5,
   "id": "29e591d0",
   "metadata": {},
   "outputs": [
    {
     "name": "stdout",
     "output_type": "stream",
     "text": [
      "Date\n",
      "Prison name\n",
      "Country\n",
      "Succeeded\n",
      "Escapee(s)\n",
      "Details\n"
     ]
    }
   ],
   "source": [
    "for row in prison_break_data[:5]:\n",
    "    print(row)"
   ]
  },
  {
   "cell_type": "code",
   "execution_count": 6,
   "id": "d146ce97",
   "metadata": {
    "scrolled": true
   },
   "outputs": [
    {
     "data": {
      "text/html": [
       "<div>\n",
       "<style scoped>\n",
       "    .dataframe tbody tr th:only-of-type {\n",
       "        vertical-align: middle;\n",
       "    }\n",
       "\n",
       "    .dataframe tbody tr th {\n",
       "        vertical-align: top;\n",
       "    }\n",
       "\n",
       "    .dataframe thead th {\n",
       "        text-align: right;\n",
       "    }\n",
       "</style>\n",
       "<table border=\"1\" class=\"dataframe\">\n",
       "  <thead>\n",
       "    <tr style=\"text-align: right;\">\n",
       "      <th></th>\n",
       "      <th>Date</th>\n",
       "      <th>Prison name</th>\n",
       "      <th>Country</th>\n",
       "      <th>Succeeded</th>\n",
       "      <th>Escapee(s)</th>\n",
       "      <th>Details</th>\n",
       "    </tr>\n",
       "  </thead>\n",
       "  <tbody>\n",
       "    <tr>\n",
       "      <th>count</th>\n",
       "      <td>48</td>\n",
       "      <td>48</td>\n",
       "      <td>48</td>\n",
       "      <td>48</td>\n",
       "      <td>48</td>\n",
       "      <td>48</td>\n",
       "    </tr>\n",
       "    <tr>\n",
       "      <th>unique</th>\n",
       "      <td>48</td>\n",
       "      <td>45</td>\n",
       "      <td>15</td>\n",
       "      <td>2</td>\n",
       "      <td>40</td>\n",
       "      <td>48</td>\n",
       "    </tr>\n",
       "    <tr>\n",
       "      <th>top</th>\n",
       "      <td>August 19, 1971</td>\n",
       "      <td>Luynes prison</td>\n",
       "      <td>France</td>\n",
       "      <td>Yes</td>\n",
       "      <td>—</td>\n",
       "      <td>Joel David Kaplan was a New York businessman w...</td>\n",
       "    </tr>\n",
       "    <tr>\n",
       "      <th>freq</th>\n",
       "      <td>1</td>\n",
       "      <td>2</td>\n",
       "      <td>15</td>\n",
       "      <td>34</td>\n",
       "      <td>7</td>\n",
       "      <td>1</td>\n",
       "    </tr>\n",
       "  </tbody>\n",
       "</table>\n",
       "</div>"
      ],
      "text/plain": [
       "                   Date    Prison name Country Succeeded Escapee(s)  \\\n",
       "count                48             48      48        48         48   \n",
       "unique               48             45      15         2         40   \n",
       "top     August 19, 1971  Luynes prison  France       Yes          —   \n",
       "freq                  1              2      15        34          7   \n",
       "\n",
       "                                                  Details  \n",
       "count                                                  48  \n",
       "unique                                                 48  \n",
       "top     Joel David Kaplan was a New York businessman w...  \n",
       "freq                                                    1  "
      ]
     },
     "execution_count": 6,
     "metadata": {},
     "output_type": "execute_result"
    }
   ],
   "source": [
    "prison_break_data.describe()"
   ]
  },
  {
   "cell_type": "markdown",
   "id": "2f0e58d3",
   "metadata": {},
   "source": [
    "All the columns have equal numbers"
   ]
  },
  {
   "cell_type": "code",
   "execution_count": 7,
   "id": "32825228",
   "metadata": {},
   "outputs": [
    {
     "data": {
      "text/html": [
       "<div>\n",
       "<style scoped>\n",
       "    .dataframe tbody tr th:only-of-type {\n",
       "        vertical-align: middle;\n",
       "    }\n",
       "\n",
       "    .dataframe tbody tr th {\n",
       "        vertical-align: top;\n",
       "    }\n",
       "\n",
       "    .dataframe thead th {\n",
       "        text-align: right;\n",
       "    }\n",
       "</style>\n",
       "<table border=\"1\" class=\"dataframe\">\n",
       "  <thead>\n",
       "    <tr style=\"text-align: right;\">\n",
       "      <th></th>\n",
       "      <th>Date</th>\n",
       "      <th>Prison name</th>\n",
       "      <th>Country</th>\n",
       "      <th>Succeeded</th>\n",
       "      <th>Escapee(s)</th>\n",
       "      <th>Details</th>\n",
       "    </tr>\n",
       "  </thead>\n",
       "  <tbody>\n",
       "    <tr>\n",
       "      <th>0</th>\n",
       "      <td>August 19, 1971</td>\n",
       "      <td>Santa Martha Acatitla</td>\n",
       "      <td>Mexico</td>\n",
       "      <td>Yes</td>\n",
       "      <td>Joel David Kaplan Carlos Antonio Contreras Castro</td>\n",
       "      <td>Joel David Kaplan was a New York businessman w...</td>\n",
       "    </tr>\n",
       "    <tr>\n",
       "      <th>1</th>\n",
       "      <td>October 31, 1973</td>\n",
       "      <td>Mountjoy Jail</td>\n",
       "      <td>Ireland</td>\n",
       "      <td>Yes</td>\n",
       "      <td>JB O'Hagan Seamus TwomeyKevin Mallon</td>\n",
       "      <td>On October 31, 1973 an IRA member hijacked a h...</td>\n",
       "    </tr>\n",
       "    <tr>\n",
       "      <th>2</th>\n",
       "      <td>May 24, 1978</td>\n",
       "      <td>United States Penitentiary, Marion</td>\n",
       "      <td>United States</td>\n",
       "      <td>No</td>\n",
       "      <td>Garrett Brock TrapnellMartin Joseph McNallyJam...</td>\n",
       "      <td>43-year-old Barbara Ann Oswald hijacked a Sain...</td>\n",
       "    </tr>\n",
       "    <tr>\n",
       "      <th>3</th>\n",
       "      <td>February 27, 1981</td>\n",
       "      <td>Fleury-Mérogis, Essonne, Ile de France</td>\n",
       "      <td>France</td>\n",
       "      <td>Yes</td>\n",
       "      <td>Gérard DupréDaniel Beaumont</td>\n",
       "      <td>With the help of Serge Coutel, Gérard Dupré an...</td>\n",
       "    </tr>\n",
       "    <tr>\n",
       "      <th>4</th>\n",
       "      <td>May 7, 1981</td>\n",
       "      <td>Orsainville Prison, Quebec City</td>\n",
       "      <td>Canada</td>\n",
       "      <td>No</td>\n",
       "      <td>Marina Paquet (hijacker)Giles Arseneault (pris...</td>\n",
       "      <td>Marina Paquet held a sawed off shotgun against...</td>\n",
       "    </tr>\n",
       "  </tbody>\n",
       "</table>\n",
       "</div>"
      ],
      "text/plain": [
       "                Date                             Prison name        Country  \\\n",
       "0    August 19, 1971                   Santa Martha Acatitla         Mexico   \n",
       "1   October 31, 1973                           Mountjoy Jail        Ireland   \n",
       "2       May 24, 1978      United States Penitentiary, Marion  United States   \n",
       "3  February 27, 1981  Fleury-Mérogis, Essonne, Ile de France         France   \n",
       "4        May 7, 1981         Orsainville Prison, Quebec City         Canada   \n",
       "\n",
       "  Succeeded                                         Escapee(s)  \\\n",
       "0       Yes  Joel David Kaplan Carlos Antonio Contreras Castro   \n",
       "1       Yes               JB O'Hagan Seamus TwomeyKevin Mallon   \n",
       "2        No  Garrett Brock TrapnellMartin Joseph McNallyJam...   \n",
       "3       Yes                        Gérard DupréDaniel Beaumont   \n",
       "4        No  Marina Paquet (hijacker)Giles Arseneault (pris...   \n",
       "\n",
       "                                             Details  \n",
       "0  Joel David Kaplan was a New York businessman w...  \n",
       "1  On October 31, 1973 an IRA member hijacked a h...  \n",
       "2  43-year-old Barbara Ann Oswald hijacked a Sain...  \n",
       "3  With the help of Serge Coutel, Gérard Dupré an...  \n",
       "4  Marina Paquet held a sawed off shotgun against...  "
      ]
     },
     "execution_count": 7,
     "metadata": {},
     "output_type": "execute_result"
    }
   ],
   "source": [
    "prison_break_data.head()"
   ]
  },
  {
   "cell_type": "code",
   "execution_count": 8,
   "id": "845b9722",
   "metadata": {},
   "outputs": [
    {
     "name": "stdout",
     "output_type": "stream",
     "text": [
      "<class 'pandas.core.frame.DataFrame'>\n",
      "RangeIndex: 48 entries, 0 to 47\n",
      "Data columns (total 6 columns):\n",
      " #   Column       Non-Null Count  Dtype \n",
      "---  ------       --------------  ----- \n",
      " 0   Date         48 non-null     object\n",
      " 1   Prison name  48 non-null     object\n",
      " 2   Country      48 non-null     object\n",
      " 3   Succeeded    48 non-null     object\n",
      " 4   Escapee(s)   48 non-null     object\n",
      " 5   Details      48 non-null     object\n",
      "dtypes: object(6)\n",
      "memory usage: 2.4+ KB\n"
     ]
    }
   ],
   "source": [
    "prison_break_data.info()"
   ]
  },
  {
   "cell_type": "markdown",
   "id": "780d43a6",
   "metadata": {},
   "source": [
    "In order to calculate which year the most helicopter escapes occurred, the years from the date column need to be extracted and counted, so there is a need to convert the role columns using the pandas datetime format to ease the analysis"
   ]
  },
  {
   "cell_type": "code",
   "execution_count": 9,
   "id": "b27cc061",
   "metadata": {},
   "outputs": [
    {
     "data": {
      "text/html": [
       "<div>\n",
       "<style scoped>\n",
       "    .dataframe tbody tr th:only-of-type {\n",
       "        vertical-align: middle;\n",
       "    }\n",
       "\n",
       "    .dataframe tbody tr th {\n",
       "        vertical-align: top;\n",
       "    }\n",
       "\n",
       "    .dataframe thead th {\n",
       "        text-align: right;\n",
       "    }\n",
       "</style>\n",
       "<table border=\"1\" class=\"dataframe\">\n",
       "  <thead>\n",
       "    <tr style=\"text-align: right;\">\n",
       "      <th></th>\n",
       "      <th>Date</th>\n",
       "      <th>Prison name</th>\n",
       "      <th>Country</th>\n",
       "      <th>Succeeded</th>\n",
       "      <th>Escapee(s)</th>\n",
       "      <th>Details</th>\n",
       "    </tr>\n",
       "  </thead>\n",
       "  <tbody>\n",
       "    <tr>\n",
       "      <th>0</th>\n",
       "      <td>1971-08-19</td>\n",
       "      <td>Santa Martha Acatitla</td>\n",
       "      <td>Mexico</td>\n",
       "      <td>Yes</td>\n",
       "      <td>Joel David Kaplan Carlos Antonio Contreras Castro</td>\n",
       "      <td>Joel David Kaplan was a New York businessman w...</td>\n",
       "    </tr>\n",
       "    <tr>\n",
       "      <th>1</th>\n",
       "      <td>1973-10-31</td>\n",
       "      <td>Mountjoy Jail</td>\n",
       "      <td>Ireland</td>\n",
       "      <td>Yes</td>\n",
       "      <td>JB O'Hagan Seamus TwomeyKevin Mallon</td>\n",
       "      <td>On October 31, 1973 an IRA member hijacked a h...</td>\n",
       "    </tr>\n",
       "    <tr>\n",
       "      <th>2</th>\n",
       "      <td>1978-05-24</td>\n",
       "      <td>United States Penitentiary, Marion</td>\n",
       "      <td>United States</td>\n",
       "      <td>No</td>\n",
       "      <td>Garrett Brock TrapnellMartin Joseph McNallyJam...</td>\n",
       "      <td>43-year-old Barbara Ann Oswald hijacked a Sain...</td>\n",
       "    </tr>\n",
       "    <tr>\n",
       "      <th>3</th>\n",
       "      <td>1981-02-27</td>\n",
       "      <td>Fleury-Mérogis, Essonne, Ile de France</td>\n",
       "      <td>France</td>\n",
       "      <td>Yes</td>\n",
       "      <td>Gérard DupréDaniel Beaumont</td>\n",
       "      <td>With the help of Serge Coutel, Gérard Dupré an...</td>\n",
       "    </tr>\n",
       "    <tr>\n",
       "      <th>4</th>\n",
       "      <td>1981-05-07</td>\n",
       "      <td>Orsainville Prison, Quebec City</td>\n",
       "      <td>Canada</td>\n",
       "      <td>No</td>\n",
       "      <td>Marina Paquet (hijacker)Giles Arseneault (pris...</td>\n",
       "      <td>Marina Paquet held a sawed off shotgun against...</td>\n",
       "    </tr>\n",
       "  </tbody>\n",
       "</table>\n",
       "</div>"
      ],
      "text/plain": [
       "        Date                             Prison name        Country Succeeded  \\\n",
       "0 1971-08-19                   Santa Martha Acatitla         Mexico       Yes   \n",
       "1 1973-10-31                           Mountjoy Jail        Ireland       Yes   \n",
       "2 1978-05-24      United States Penitentiary, Marion  United States        No   \n",
       "3 1981-02-27  Fleury-Mérogis, Essonne, Ile de France         France       Yes   \n",
       "4 1981-05-07         Orsainville Prison, Quebec City         Canada        No   \n",
       "\n",
       "                                          Escapee(s)  \\\n",
       "0  Joel David Kaplan Carlos Antonio Contreras Castro   \n",
       "1               JB O'Hagan Seamus TwomeyKevin Mallon   \n",
       "2  Garrett Brock TrapnellMartin Joseph McNallyJam...   \n",
       "3                        Gérard DupréDaniel Beaumont   \n",
       "4  Marina Paquet (hijacker)Giles Arseneault (pris...   \n",
       "\n",
       "                                             Details  \n",
       "0  Joel David Kaplan was a New York businessman w...  \n",
       "1  On October 31, 1973 an IRA member hijacked a h...  \n",
       "2  43-year-old Barbara Ann Oswald hijacked a Sain...  \n",
       "3  With the help of Serge Coutel, Gérard Dupré an...  \n",
       "4  Marina Paquet held a sawed off shotgun against...  "
      ]
     },
     "execution_count": 9,
     "metadata": {},
     "output_type": "execute_result"
    }
   ],
   "source": [
    "prison_break_data['Date'] = pd.to_datetime(prison_break_data.Date)\n",
    "\n",
    "prison_break_data.head()"
   ]
  },
  {
   "cell_type": "markdown",
   "id": "892116ab",
   "metadata": {},
   "source": [
    "#### In order to answer the first question which is to check the year the most helicopter prison break attempts occurs, i extracted the year and made another column off it"
   ]
  },
  {
   "cell_type": "code",
   "execution_count": 10,
   "id": "6288a410",
   "metadata": {},
   "outputs": [],
   "source": [
    "prison_break_data['Year'] = pd.DatetimeIndex(prison_break_data['Date']).year"
   ]
  },
  {
   "cell_type": "code",
   "execution_count": 11,
   "id": "1e7ebd7b",
   "metadata": {},
   "outputs": [],
   "source": [
    "prison_break_data['Month'] = pd.DatetimeIndex(prison_break_data['Date']).month"
   ]
  },
  {
   "cell_type": "code",
   "execution_count": 12,
   "id": "2d9e4922",
   "metadata": {},
   "outputs": [],
   "source": [
    "import calendar\n",
    "prison_break_data['Month'] = prison_break_data['Month'].apply(lambda x: calendar.month_abbr[x])"
   ]
  },
  {
   "cell_type": "code",
   "execution_count": 13,
   "id": "e05ca3ea",
   "metadata": {
    "scrolled": false
   },
   "outputs": [
    {
     "data": {
      "text/html": [
       "<div>\n",
       "<style scoped>\n",
       "    .dataframe tbody tr th:only-of-type {\n",
       "        vertical-align: middle;\n",
       "    }\n",
       "\n",
       "    .dataframe tbody tr th {\n",
       "        vertical-align: top;\n",
       "    }\n",
       "\n",
       "    .dataframe thead th {\n",
       "        text-align: right;\n",
       "    }\n",
       "</style>\n",
       "<table border=\"1\" class=\"dataframe\">\n",
       "  <thead>\n",
       "    <tr style=\"text-align: right;\">\n",
       "      <th></th>\n",
       "      <th>Date</th>\n",
       "      <th>Prison name</th>\n",
       "      <th>Country</th>\n",
       "      <th>Succeeded</th>\n",
       "      <th>Escapee(s)</th>\n",
       "      <th>Details</th>\n",
       "      <th>Year</th>\n",
       "      <th>Month</th>\n",
       "    </tr>\n",
       "  </thead>\n",
       "  <tbody>\n",
       "    <tr>\n",
       "      <th>0</th>\n",
       "      <td>1971-08-19</td>\n",
       "      <td>Santa Martha Acatitla</td>\n",
       "      <td>Mexico</td>\n",
       "      <td>Yes</td>\n",
       "      <td>Joel David Kaplan Carlos Antonio Contreras Castro</td>\n",
       "      <td>Joel David Kaplan was a New York businessman w...</td>\n",
       "      <td>1971</td>\n",
       "      <td>Aug</td>\n",
       "    </tr>\n",
       "    <tr>\n",
       "      <th>1</th>\n",
       "      <td>1973-10-31</td>\n",
       "      <td>Mountjoy Jail</td>\n",
       "      <td>Ireland</td>\n",
       "      <td>Yes</td>\n",
       "      <td>JB O'Hagan Seamus TwomeyKevin Mallon</td>\n",
       "      <td>On October 31, 1973 an IRA member hijacked a h...</td>\n",
       "      <td>1973</td>\n",
       "      <td>Oct</td>\n",
       "    </tr>\n",
       "    <tr>\n",
       "      <th>2</th>\n",
       "      <td>1978-05-24</td>\n",
       "      <td>United States Penitentiary, Marion</td>\n",
       "      <td>United States</td>\n",
       "      <td>No</td>\n",
       "      <td>Garrett Brock TrapnellMartin Joseph McNallyJam...</td>\n",
       "      <td>43-year-old Barbara Ann Oswald hijacked a Sain...</td>\n",
       "      <td>1978</td>\n",
       "      <td>May</td>\n",
       "    </tr>\n",
       "    <tr>\n",
       "      <th>3</th>\n",
       "      <td>1981-02-27</td>\n",
       "      <td>Fleury-Mérogis, Essonne, Ile de France</td>\n",
       "      <td>France</td>\n",
       "      <td>Yes</td>\n",
       "      <td>Gérard DupréDaniel Beaumont</td>\n",
       "      <td>With the help of Serge Coutel, Gérard Dupré an...</td>\n",
       "      <td>1981</td>\n",
       "      <td>Feb</td>\n",
       "    </tr>\n",
       "    <tr>\n",
       "      <th>4</th>\n",
       "      <td>1981-05-07</td>\n",
       "      <td>Orsainville Prison, Quebec City</td>\n",
       "      <td>Canada</td>\n",
       "      <td>No</td>\n",
       "      <td>Marina Paquet (hijacker)Giles Arseneault (pris...</td>\n",
       "      <td>Marina Paquet held a sawed off shotgun against...</td>\n",
       "      <td>1981</td>\n",
       "      <td>May</td>\n",
       "    </tr>\n",
       "  </tbody>\n",
       "</table>\n",
       "</div>"
      ],
      "text/plain": [
       "        Date                             Prison name        Country Succeeded  \\\n",
       "0 1971-08-19                   Santa Martha Acatitla         Mexico       Yes   \n",
       "1 1973-10-31                           Mountjoy Jail        Ireland       Yes   \n",
       "2 1978-05-24      United States Penitentiary, Marion  United States        No   \n",
       "3 1981-02-27  Fleury-Mérogis, Essonne, Ile de France         France       Yes   \n",
       "4 1981-05-07         Orsainville Prison, Quebec City         Canada        No   \n",
       "\n",
       "                                          Escapee(s)  \\\n",
       "0  Joel David Kaplan Carlos Antonio Contreras Castro   \n",
       "1               JB O'Hagan Seamus TwomeyKevin Mallon   \n",
       "2  Garrett Brock TrapnellMartin Joseph McNallyJam...   \n",
       "3                        Gérard DupréDaniel Beaumont   \n",
       "4  Marina Paquet (hijacker)Giles Arseneault (pris...   \n",
       "\n",
       "                                             Details  Year Month  \n",
       "0  Joel David Kaplan was a New York businessman w...  1971   Aug  \n",
       "1  On October 31, 1973 an IRA member hijacked a h...  1973   Oct  \n",
       "2  43-year-old Barbara Ann Oswald hijacked a Sain...  1978   May  \n",
       "3  With the help of Serge Coutel, Gérard Dupré an...  1981   Feb  \n",
       "4  Marina Paquet held a sawed off shotgun against...  1981   May  "
      ]
     },
     "execution_count": 13,
     "metadata": {},
     "output_type": "execute_result"
    }
   ],
   "source": [
    "prison_break_data.head()"
   ]
  },
  {
   "cell_type": "code",
   "execution_count": 14,
   "id": "11113c1f",
   "metadata": {},
   "outputs": [
    {
     "data": {
      "text/plain": [
       "Jan    7\n",
       "Dec    7\n",
       "Jun    6\n",
       "Jul    5\n",
       "May    4\n",
       "Feb    4\n",
       "Mar    4\n",
       "Apr    3\n",
       "Aug    2\n",
       "Oct    2\n",
       "Nov    2\n",
       "Sep    2\n",
       "Name: Month, dtype: int64"
      ]
     },
     "execution_count": 14,
     "metadata": {},
     "output_type": "execute_result"
    }
   ],
   "source": [
    "prison_break_data['Month'].value_counts()"
   ]
  },
  {
   "cell_type": "markdown",
   "id": "496720ea",
   "metadata": {},
   "source": [
    "## Data Visualization"
   ]
  },
  {
   "cell_type": "markdown",
   "id": "fde26144",
   "metadata": {},
   "source": [
    "### Answering the questions by producing bar plots."
   ]
  },
  {
   "cell_type": "code",
   "execution_count": 15,
   "id": "f7e59736",
   "metadata": {},
   "outputs": [
    {
     "data": {
      "text/plain": [
       "<AxesSubplot:title={'center':'Prison Breaks Per Year'}, xlabel='Year', ylabel='No. of Escapes'>"
      ]
     },
     "execution_count": 15,
     "metadata": {},
     "output_type": "execute_result"
    },
    {
     "data": {
      "image/png": "[encoded data removed]",
      "text/plain": [
       "<Figure size 864x432 with 1 Axes>"
      ]
     },
     "metadata": {
      "needs_background": "light"
     },
     "output_type": "display_data"
    }
   ],
   "source": [
    "prison_break_data['Year'].value_counts().plot(kind='bar' ,  xlabel = 'Year', ylabel = 'No. of Escapes',title = 'Prison Breaks Per Year',figsize = (12,6))"
   ]
  },
  {
   "cell_type": "markdown",
   "id": "96144f5e",
   "metadata": {},
   "source": [
    "#### Answering the second question which is the countries have the most attempted helicopter prison escapees"
   ]
  },
  {
   "cell_type": "code",
   "execution_count": 16,
   "id": "4a6378bd",
   "metadata": {},
   "outputs": [
    {
     "data": {
      "text/plain": [
       "<AxesSubplot:title={'center':'Prison Breaks per Country'}, xlabel='Country', ylabel='No. of Escapes'>"
      ]
     },
     "execution_count": 16,
     "metadata": {},
     "output_type": "execute_result"
    },
    {
     "data": {
      "image/png": "[encoded data removed]",
      "text/plain": [
       "<Figure size 864x432 with 1 Axes>"
      ]
     },
     "metadata": {
      "needs_background": "light"
     },
     "output_type": "display_data"
    }
   ],
   "source": [
    "prison_break_data['Country'].value_counts().plot(kind='bar' , xlabel = 'Country',ylabel = 'No. of Escapes',title = 'Prison Breaks per Country',figsize = (12,6))"
   ]
  },
  {
   "cell_type": "code",
   "execution_count": 17,
   "id": "c9678ba0",
   "metadata": {},
   "outputs": [
    {
     "data": {
      "text/plain": [
       "<AxesSubplot:title={'center':'Prison Breaks Per Month'}, xlabel='Year', ylabel='No. of Escapes'>"
      ]
     },
     "execution_count": 17,
     "metadata": {},
     "output_type": "execute_result"
    },
    {
     "data": {
      "image/png": "[encoded data removed]",
      "text/plain": [
       "<Figure size 864x432 with 1 Axes>"
      ]
     },
     "metadata": {
      "needs_background": "light"
     },
     "output_type": "display_data"
    }
   ],
   "source": [
    "prison_break_data['Month'].value_counts().plot(kind='bar' ,  xlabel = 'Year', ylabel = 'No. of Escapes',title = 'Prison Breaks Per Month',figsize = (12,6))"
   ]
  },
  {
   "cell_type": "markdown",
   "id": "48483408",
   "metadata": {},
   "source": [
    "### It can be concluded that there has been a maximum of three recorded prison escapes by helicopter in one year. This has happened during years 1986, 2001, 2007 & 2009 and France recorded more than 14 recorded prison escapes by helicopter, more than any other country on record, the month of January, December and June also recorded more attempt"
   ]
  },
  {
   "cell_type": "markdown",
   "id": "a5af412e",
   "metadata": {},
   "source": [
    "## Checking the year they're most successful"
   ]
  },
  {
   "cell_type": "code",
   "execution_count": 18,
   "id": "341e882e",
   "metadata": {
    "scrolled": true
   },
   "outputs": [],
   "source": [
    "df_succeeded=prison_break_data[prison_break_data['Succeeded']=='Yes']"
   ]
  },
  {
   "cell_type": "code",
   "execution_count": 19,
   "id": "1dae27a4",
   "metadata": {},
   "outputs": [
    {
     "name": "stdout",
     "output_type": "stream",
     "text": [
      "╒════════╤═════════════════════════════════╕\n",
      "│   \u001b[31mYear\u001b[0m │   \u001b[31mNumber of attempts(succeeded)\u001b[0m │\n",
      "╞════════╪═════════════════════════════════╡\n",
      "│   1986 │                               3 │\n",
      "├────────┼─────────────────────────────────┤\n",
      "│   2009 │                               3 │\n",
      "├────────┼─────────────────────────────────┤\n",
      "│   2001 │                               2 │\n",
      "├────────┼─────────────────────────────────┤\n",
      "│   1985 │                               2 │\n",
      "├────────┼─────────────────────────────────┤\n",
      "│   2007 │                               2 │\n",
      "╘════════╧═════════════════════════════════╛\n"
     ]
    }
   ],
   "source": [
    "print(tabulate(df_succeeded['Year'].value_counts(dropna=False).to_frame().head(5),\n",
    "              headers=[f'\\033[31mYear\\033[0m', '\\033[31mNumber of attempts(succeeded)\\033[0m'], tablefmt='fancy_grid'))"
   ]
  },
  {
   "cell_type": "markdown",
   "id": "4831cb43",
   "metadata": {},
   "source": [
    "#### Helicopter escape were more succesful in the year 1986 and 2009 than other years "
   ]
  },
  {
   "cell_type": "code",
   "execution_count": 20,
   "id": "f53ffa7e",
   "metadata": {},
   "outputs": [
    {
     "name": "stdout",
     "output_type": "stream",
     "text": [
      "╒═════════╤═════════════════════════════════╕\n",
      "│ \u001b[31mMonth\u001b[0m   │   \u001b[31mNumber of attempts(succeeded)\u001b[0m │\n",
      "╞═════════╪═════════════════════════════════╡\n",
      "│ Dec     │                               6 │\n",
      "├─────────┼─────────────────────────────────┤\n",
      "│ Jan     │                               6 │\n",
      "├─────────┼─────────────────────────────────┤\n",
      "│ Jul     │                               4 │\n",
      "├─────────┼─────────────────────────────────┤\n",
      "│ Jun     │                               4 │\n",
      "├─────────┼─────────────────────────────────┤\n",
      "│ Mar     │                               4 │\n",
      "╘═════════╧═════════════════════════════════╛\n"
     ]
    }
   ],
   "source": [
    "print(tabulate(df_succeeded['Month'].value_counts(dropna=False).to_frame().head(5),\n",
    "              headers=[f'\\033[31mMonth\\033[0m', '\\033[31mNumber of attempts(succeeded)\\033[0m'], tablefmt='fancy_grid'))"
   ]
  },
  {
   "cell_type": "markdown",
   "id": "7b14933b",
   "metadata": {},
   "source": [
    "#### Helicopter escape were more successful in the month of December and January than other years "
   ]
  },
  {
   "cell_type": "code",
   "execution_count": 21,
   "id": "e5b7162e",
   "metadata": {
    "scrolled": true
   },
   "outputs": [
    {
     "name": "stdout",
     "output_type": "stream",
     "text": [
      "╒════════╤══════════════════════════════╕\n",
      "│   \u001b[31mYear\u001b[0m │   \u001b[31mNumber of attempts(failed)\u001b[0m │\n",
      "╞════════╪══════════════════════════════╡\n",
      "│   1978 │                            1 │\n",
      "├────────┼──────────────────────────────┤\n",
      "│   1981 │                            1 │\n",
      "├────────┼──────────────────────────────┤\n",
      "│   1983 │                            1 │\n",
      "├────────┼──────────────────────────────┤\n",
      "│   1989 │                            1 │\n",
      "├────────┼──────────────────────────────┤\n",
      "│   1992 │                            1 │\n",
      "╘════════╧══════════════════════════════╛\n"
     ]
    }
   ],
   "source": [
    "df_failed=prison_break_data[prison_break_data['Succeeded']=='No']\n",
    "\n",
    "print(tabulate(df_failed['Year'].value_counts(dropna=False).to_frame().head(5),\n",
    "              headers=[f'\\033[31mYear\\033[0m', '\\033[31mNumber of attempts(failed)\\033[0m'], tablefmt='fancy_grid'))"
   ]
  },
  {
   "cell_type": "code",
   "execution_count": 22,
   "id": "ae95153a",
   "metadata": {},
   "outputs": [
    {
     "name": "stdout",
     "output_type": "stream",
     "text": [
      "╒═════════╤══════════════════════════════╕\n",
      "│ \u001b[31mMonth\u001b[0m   │   \u001b[31mNumber of attempts(failed)\u001b[0m │\n",
      "╞═════════╪══════════════════════════════╡\n",
      "│ May     │                            3 │\n",
      "├─────────┼──────────────────────────────┤\n",
      "│ Jun     │                            2 │\n",
      "├─────────┼──────────────────────────────┤\n",
      "│ Sep     │                            2 │\n",
      "├─────────┼──────────────────────────────┤\n",
      "│ Feb     │                            2 │\n",
      "├─────────┼──────────────────────────────┤\n",
      "│ Jan     │                            1 │\n",
      "╘═════════╧══════════════════════════════╛\n"
     ]
    }
   ],
   "source": [
    "print(tabulate(df_failed['Month'].value_counts(dropna=False).to_frame().head(5),\n",
    "              headers=[f'\\033[31mMonth\\033[0m', '\\033[31mNumber of attempts(failed)\\033[0m'], tablefmt='fancy_grid'))"
   ]
  },
  {
   "cell_type": "markdown",
   "id": "0e448061",
   "metadata": {},
   "source": [
    "#### Helicopter escape were more succesful in the month of May"
   ]
  }
 ],
 "metadata": {
  "kernelspec": {
   "display_name": "Python 3 (ipykernel)",
   "language": "python",
   "name": "python3"
  },
  "language_info": {
   "codemirror_mode": {
    "name": "ipython",
    "version": 3
   },
   "file_extension": ".py",
   "mimetype": "text/x-python",
   "name": "python",
   "nbconvert_exporter": "python",
   "pygments_lexer": "ipython3",
   "version": "3.9.7"
  }
 },
 "nbformat": 4,
 "nbformat_minor": 5
}
